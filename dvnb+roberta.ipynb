{
 "cells": [
  {
   "cell_type": "markdown",
   "metadata": {},
   "source": [
    "# Grid-Search on: <br> &emsp;Document Vectors using Cosine Similarity + RoBERTa"
   ]
  },
  {
   "cell_type": "code",
   "execution_count": 1,
   "metadata": {},
   "outputs": [],
   "source": [
    "import os\n",
    "from test_with_origin import restore_order\n",
    "from ensemble_gs import ImdbSentimentClf, TrivialScaler, read_embeddings, read_logs\n",
    "\n",
    "import numpy as np\n",
    "from sklearn.metrics import accuracy_score\n",
    "from sklearn.preprocessing import StandardScaler\n",
    "from sklearn.linear_model import LogisticRegression, LogisticRegressionCV\n",
    "import pickle\n",
    "import json\n",
    "import re\n",
    "from typing import List\n",
    "from original_to_1gram import normalize_text\n",
    "\n",
    "import pandas as pd\n",
    "import matplotlib.pyplot as plt\n",
    "import seaborn as sns\n",
    "from matplotlib.colors import LogNorm\n",
    "\n",
    "sns.set(font_scale=1, style=\"whitegrid\")"
   ]
  },
  {
   "cell_type": "markdown",
   "metadata": {},
   "source": [
    "Finetune RoBERTa and extract RoBERTa embeddings with roberta/roberta.py before running this notebook!!!"
   ]
  },
  {
   "cell_type": "markdown",
   "metadata": {},
   "source": [
    "!python roberta/roberta.py"
   ]
  },
  {
   "cell_type": "markdown",
   "metadata": {},
   "source": [
    "## The Grid-Search Experiment\n",
    "### Preparations"
   ]
  },
  {
   "cell_type": "markdown",
   "metadata": {},
   "source": [
    "Because the 2 parts of docuemtn vectors were trained on different versions of the IMDB dataset (all from the original dataset but with different preprocessing and in different document orders), some auxilliary functions are needed to make sure that then are concatenated correctly."
   ]
  },
  {
   "cell_type": "code",
   "execution_count": 2,
   "metadata": {},
   "outputs": [],
   "source": [
    "def read_jsonl(path):\n",
    "    ids = []\n",
    "    texts = []\n",
    "    labels = []\n",
    "    with open(path, encoding='utf8') as f:\n",
    "        for line in f:\n",
    "            d = json.loads(line)\n",
    "            ids.append(d['id'])\n",
    "            texts.append(d['text'])\n",
    "            labels.append(d['label'])\n",
    "    return ids, texts, labels\n",
    "\n",
    "def read_dv_jsonl(path):\n",
    "    dv_train = []\n",
    "    dv_dev = []\n",
    "    dv_test = []\n",
    "    y_train = []\n",
    "    y_dev = []\n",
    "    y_test = []\n",
    "    with open(path) as f:\n",
    "        for line in f:\n",
    "            d = json.loads(line)\n",
    "            split = d[\"split\"]\n",
    "            if split=='train':\n",
    "                dv_train.append(d[\"embs\"])\n",
    "                y_train.append(d[\"label\"])\n",
    "            elif split==\"dev\":\n",
    "                dv_dev.append(d[\"embs\"])\n",
    "                y_dev.append(d[\"label\"])\n",
    "            elif split == \"test\":\n",
    "                dv_test.append(d[\"embs\"])\n",
    "                y_test.append(d[\"label\"])\n",
    "    return [*map(np.array, (dv_train, dv_dev, dv_test, y_train, y_dev, y_test))]\n",
    "    \n"
   ]
  },
  {
   "cell_type": "code",
   "execution_count": 3,
   "metadata": {},
   "outputs": [],
   "source": [
    "## read embeddings from both sources\n",
    "# read Document Vectors using Cosine Simialrity with NB sub-sampling and labels\n",
    "embedding_train, embedding_dev, embedding_test, y_train, y_dev, y_test = read_dv_jsonl('imdb_runs_results/imdb_vectors_nb_1e-04_120epoch.jsonl')\n",
    "\n",
    "# read RoBERTa embeddings\n",
    "rembs_train = np.load(\"roberta/embs/emb_train.npy\")\n",
    "rembs_dev = np.load(\"roberta/embs/emb_dev.npy\")\n",
    "rembs_test = np.load(\"roberta/embs/emb_test.npy\")"
   ]
  },
  {
   "cell_type": "markdown",
   "metadata": {},
   "source": [
    "### Run the grid-search"
   ]
  },
  {
   "cell_type": "code",
   "execution_count": 4,
   "metadata": {},
   "outputs": [],
   "source": [
    "# The grid of feature-wise scaling\n",
    "dv_scalers = {\n",
    "    'none': TrivialScaler(), \n",
    "    #'standard': StandardScaler(with_mean=False), \n",
    "    'standard_with_mean': StandardScaler(with_mean=True), \n",
    "}\n",
    "re_scalers = {\n",
    "    'none': TrivialScaler(), \n",
    "    'standard': StandardScaler(with_mean=True), \n",
    "    #'minmax': MaxAbsScaler(), \n",
    "}\n"
   ]
  },
  {
   "cell_type": "code",
   "execution_count": 5,
   "metadata": {},
   "outputs": [
    {
     "name": "stdout",
     "output_type": "stream",
     "text": [
      "dv_none+rb_none {'C': 100.0, 'r': 10.0, 'acc': 0.9558}\n",
      "dv_none+rb_standard {'C': 0.001, 'r': 1e-07, 'acc': 0.9556}\n",
      "dv_standard_with_mean+rb_none {'C': 0.0001, 'r': 100.0, 'acc': 0.9586}\n",
      "dv_standard_with_mean+rb_standard {'C': 1e-06, 'r': 10.0, 'acc': 0.9582}\n"
     ]
    }
   ],
   "source": [
    "# As in some cases the concatenation matrix is very baddly conditioned, the solver may not converge within the niter limit. \n",
    "# Here suppress the corresponding warnings to keep the stdout clean\n",
    "import warnings\n",
    "from sklearn.exceptions import ConvergenceWarning\n",
    "warnings.simplefilter(\"ignore\", category=ConvergenceWarning)\n",
    "np.random.seed(12)\n",
    "# run the experiment\n",
    "his = {}\n",
    "rs = np.logspace(-7, 2, 10)\n",
    "Cs = np.logspace(-7, 2, 10)\n",
    "for dv_scaler_name, dv_scaler in dv_scalers.items():\n",
    "    for bon_scaler_name, bon_scaler in re_scalers.items():\n",
    "        stclf = ImdbSentimentClf(r=rs, C=Cs, dv_scaler=dv_scaler, bon_scaler=bon_scaler, cv=3)\n",
    "        best = stclf.gridsearch(embedding_train, rembs_train, y_train, embedding_dev, rembs_dev, y_dev)\n",
    "        test_name = f'dv_{dv_scaler_name}+rb_{bon_scaler_name}'\n",
    "        his[test_name] = stclf.rec\n",
    "        with open('test_logs/dvnb+roberta_logs.pkl', 'wb') as f:\n",
    "            pickle.dump(his, f)\n",
    "        print(test_name, best)\n"
   ]
  },
  {
   "cell_type": "markdown",
   "metadata": {},
   "source": [
    "## The results"
   ]
  },
  {
   "cell_type": "code",
   "execution_count": 6,
   "metadata": {},
   "outputs": [],
   "source": [
    "with open('test_logs/dvnb+roberta_logs.pkl', 'rb') as f:\n",
    "    his = pickle.load(f)\n",
    "df = read_logs(his)"
   ]
  },
  {
   "cell_type": "code",
   "execution_count": 7,
   "metadata": {},
   "outputs": [],
   "source": [
    "df = df.rename(columns={\"BON scaling\": \"RoBERTa scaling\", \"DV scaling\": \"DVNB scaling\"})"
   ]
  },
  {
   "cell_type": "code",
   "execution_count": 8,
   "metadata": {},
   "outputs": [
    {
     "data": {
      "image/png": "[encoded data removed]",
      "text/plain": [
       "<Figure size 793.35x720 with 4 Axes>"
      ]
     },
     "metadata": {},
     "output_type": "display_data"
    }
   ],
   "source": [
    "g = sns.relplot(x=\"C\", y=\"acc\", hue=\"r\", col=\"DVNB scaling\", row=\"RoBERTa scaling\", data=df, hue_norm=LogNorm(1e-7, 1e2), legend=\"full\")\n",
    "g.set(xscale=\"log\")\n",
    "g.set(ylim=(0.92, 0.96))\n",
    "g.savefig(\"figures/dvnb_rb_gs.jpg\")"
   ]
  },
  {
   "cell_type": "code",
   "execution_count": 9,
   "metadata": {},
   "outputs": [
    {
     "data": {
      "text/html": [
       "<div>\n",
       "<style scoped>\n",
       "    .dataframe tbody tr th:only-of-type {\n",
       "        vertical-align: middle;\n",
       "    }\n",
       "\n",
       "    .dataframe tbody tr th {\n",
       "        vertical-align: top;\n",
       "    }\n",
       "\n",
       "    .dataframe thead th {\n",
       "        text-align: right;\n",
       "    }\n",
       "</style>\n",
       "<table border=\"1\" class=\"dataframe\">\n",
       "  <thead>\n",
       "    <tr style=\"text-align: right;\">\n",
       "      <th></th>\n",
       "      <th>C</th>\n",
       "      <th>r</th>\n",
       "      <th>acc</th>\n",
       "      <th>DVNB scaling</th>\n",
       "      <th>RoBERTa scaling</th>\n",
       "    </tr>\n",
       "  </thead>\n",
       "  <tbody>\n",
       "    <tr>\n",
       "      <th>93</th>\n",
       "      <td>0.000100</td>\n",
       "      <td>100.0</td>\n",
       "      <td>0.9586</td>\n",
       "      <td>standard_with_mean</td>\n",
       "      <td>none</td>\n",
       "    </tr>\n",
       "    <tr>\n",
       "      <th>81</th>\n",
       "      <td>0.000001</td>\n",
       "      <td>10.0</td>\n",
       "      <td>0.9582</td>\n",
       "      <td>standard_with_mean</td>\n",
       "      <td>standard</td>\n",
       "    </tr>\n",
       "    <tr>\n",
       "      <th>83</th>\n",
       "      <td>0.000100</td>\n",
       "      <td>10.0</td>\n",
       "      <td>0.9578</td>\n",
       "      <td>standard_with_mean</td>\n",
       "      <td>none</td>\n",
       "    </tr>\n",
       "    <tr>\n",
       "      <th>82</th>\n",
       "      <td>0.000010</td>\n",
       "      <td>10.0</td>\n",
       "      <td>0.9578</td>\n",
       "      <td>standard_with_mean</td>\n",
       "      <td>none</td>\n",
       "    </tr>\n",
       "  </tbody>\n",
       "</table>\n",
       "</div>"
      ],
      "text/plain": [
       "           C      r     acc        DVNB scaling RoBERTa scaling\n",
       "93  0.000100  100.0  0.9586  standard_with_mean            none\n",
       "81  0.000001   10.0  0.9582  standard_with_mean        standard\n",
       "83  0.000100   10.0  0.9578  standard_with_mean            none\n",
       "82  0.000010   10.0  0.9578  standard_with_mean            none"
      ]
     },
     "execution_count": 9,
     "metadata": {},
     "output_type": "execute_result"
    }
   ],
   "source": [
    "top = df.sort_values(by=\"acc\", ascending=False).head(4).copy()\n",
    "top"
   ]
  },
  {
   "cell_type": "code",
   "execution_count": 10,
   "metadata": {},
   "outputs": [],
   "source": [
    "embedding_train = np.vstack([embedding_train, embedding_dev])\n",
    "rembs_train = np.vstack([rembs_train, rembs_dev])"
   ]
  },
  {
   "cell_type": "code",
   "execution_count": 11,
   "metadata": {},
   "outputs": [],
   "source": [
    "y_train = np.concatenate([y_train, y_dev])"
   ]
  },
  {
   "cell_type": "code",
   "execution_count": 12,
   "metadata": {},
   "outputs": [
    {
     "data": {
      "text/html": [
       "<div>\n",
       "<style scoped>\n",
       "    .dataframe tbody tr th:only-of-type {\n",
       "        vertical-align: middle;\n",
       "    }\n",
       "\n",
       "    .dataframe tbody tr th {\n",
       "        vertical-align: top;\n",
       "    }\n",
       "\n",
       "    .dataframe thead th {\n",
       "        text-align: right;\n",
       "    }\n",
       "</style>\n",
       "<table border=\"1\" class=\"dataframe\">\n",
       "  <thead>\n",
       "    <tr style=\"text-align: right;\">\n",
       "      <th></th>\n",
       "      <th>C</th>\n",
       "      <th>r</th>\n",
       "      <th>acc</th>\n",
       "      <th>DVNB scaling</th>\n",
       "      <th>RoBERTa scaling</th>\n",
       "      <th>test score</th>\n",
       "    </tr>\n",
       "  </thead>\n",
       "  <tbody>\n",
       "    <tr>\n",
       "      <th>93</th>\n",
       "      <td>0.000100</td>\n",
       "      <td>100.0</td>\n",
       "      <td>0.9586</td>\n",
       "      <td>standard_with_mean</td>\n",
       "      <td>none</td>\n",
       "      <td>0.95992</td>\n",
       "    </tr>\n",
       "    <tr>\n",
       "      <th>81</th>\n",
       "      <td>0.000001</td>\n",
       "      <td>10.0</td>\n",
       "      <td>0.9582</td>\n",
       "      <td>standard_with_mean</td>\n",
       "      <td>standard</td>\n",
       "      <td>0.96000</td>\n",
       "    </tr>\n",
       "    <tr>\n",
       "      <th>83</th>\n",
       "      <td>0.000100</td>\n",
       "      <td>10.0</td>\n",
       "      <td>0.9578</td>\n",
       "      <td>standard_with_mean</td>\n",
       "      <td>none</td>\n",
       "      <td>0.96120</td>\n",
       "    </tr>\n",
       "    <tr>\n",
       "      <th>82</th>\n",
       "      <td>0.000010</td>\n",
       "      <td>10.0</td>\n",
       "      <td>0.9578</td>\n",
       "      <td>standard_with_mean</td>\n",
       "      <td>none</td>\n",
       "      <td>0.96076</td>\n",
       "    </tr>\n",
       "  </tbody>\n",
       "</table>\n",
       "</div>"
      ],
      "text/plain": [
       "           C      r     acc        DVNB scaling RoBERTa scaling  test score\n",
       "93  0.000100  100.0  0.9586  standard_with_mean            none     0.95992\n",
       "81  0.000001   10.0  0.9582  standard_with_mean        standard     0.96000\n",
       "83  0.000100   10.0  0.9578  standard_with_mean            none     0.96120\n",
       "82  0.000010   10.0  0.9578  standard_with_mean            none     0.96076"
      ]
     },
     "execution_count": 12,
     "metadata": {},
     "output_type": "execute_result"
    }
   ],
   "source": [
    "lr = LogisticRegression()\n",
    "\n",
    "sd = StandardScaler(with_mean=True)\n",
    "embedding_train_sd = sd.fit_transform(embedding_train)\n",
    "embedding_test_sd = sd.transform(embedding_test)\n",
    "\n",
    "rembs_train_sd = sd.fit_transform(rembs_train)\n",
    "rembs_test_sd = sd.transform(rembs_test)\n",
    "\n",
    "for i, a in top.iterrows():\n",
    "    dv_train = embedding_train_sd if a[\"DVNB scaling\"] == \"standard_with_mean\" else embedding_train\n",
    "    dv_test = embedding_test_sd if a[\"DVNB scaling\"] == \"standard_with_mean\" else embedding_test\n",
    "\n",
    "    rb_train = rembs_train_sd if a[\"RoBERTa scaling\"] == \"standard\" else rembs_train\n",
    "    rb_test = rembs_test_sd if a[\"RoBERTa scaling\"] == \"standard\" else rembs_test\n",
    "\n",
    "    lr.set_params(C=a[\"C\"])\n",
    "    lr.fit(np.hstack([dv_train * a[\"r\"],rb_train]), y_train)\n",
    "    test_score = lr.score(np.hstack([dv_test * a[\"r\"], rb_test]), y_test)\n",
    "    top.loc[i, \"test score\"] = test_score\n",
    "\n",
    "top   "
   ]
  },
  {
   "cell_type": "code",
   "execution_count": 13,
   "metadata": {},
   "outputs": [
    {
     "name": "stdout",
     "output_type": "stream",
     "text": [
      "RoBERTa score: 0.95792\n",
      "DVNB score: 0.93384\n"
     ]
    }
   ],
   "source": [
    "\n",
    "lgcv = LogisticRegressionCV(Cs=np.logspace(-7, 4, 9), tol=0.001)\n",
    "lgcv.fit(rembs_train, y_train)\n",
    "rb_test_score = lgcv.score(rembs_test, y_test)\n",
    "\n",
    "lgcv.fit(embedding_train, y_train)\n",
    "dv_test_score = lgcv.score(embedding_test, y_test)\n",
    "print(\"RoBERTa score:\", rb_test_score)\n",
    "print(\"DVNB score:\", dv_test_score)"
   ]
  },
  {
   "cell_type": "code",
   "execution_count": 14,
   "metadata": {},
   "outputs": [
    {
     "data": {
      "text/html": [
       "<div>\n",
       "<style scoped>\n",
       "    .dataframe tbody tr th:only-of-type {\n",
       "        vertical-align: middle;\n",
       "    }\n",
       "\n",
       "    .dataframe tbody tr th {\n",
       "        vertical-align: top;\n",
       "    }\n",
       "\n",
       "    .dataframe thead th {\n",
       "        text-align: right;\n",
       "    }\n",
       "</style>\n",
       "<table border=\"1\" class=\"dataframe\">\n",
       "  <thead>\n",
       "    <tr style=\"text-align: right;\">\n",
       "      <th></th>\n",
       "      <th>ndim</th>\n",
       "      <th>mean norm</th>\n",
       "      <th>mean norm avg</th>\n",
       "    </tr>\n",
       "    <tr>\n",
       "      <th>name</th>\n",
       "      <th></th>\n",
       "      <th></th>\n",
       "      <th></th>\n",
       "    </tr>\n",
       "  </thead>\n",
       "  <tbody>\n",
       "    <tr>\n",
       "      <th>DVNB</th>\n",
       "      <td>500</td>\n",
       "      <td>0.306773</td>\n",
       "      <td>0.000614</td>\n",
       "    </tr>\n",
       "    <tr>\n",
       "      <th>RoBERTa</th>\n",
       "      <td>768</td>\n",
       "      <td>14.571285</td>\n",
       "      <td>0.018973</td>\n",
       "    </tr>\n",
       "  </tbody>\n",
       "</table>\n",
       "</div>"
      ],
      "text/plain": [
       "         ndim  mean norm  mean norm avg\n",
       "name                                   \n",
       "DVNB      500   0.306773       0.000614\n",
       "RoBERTa   768  14.571285       0.018973"
      ]
     },
     "execution_count": 14,
     "metadata": {},
     "output_type": "execute_result"
    }
   ],
   "source": [
    "mag = []\n",
    "mag.append({\n",
    "    \"name\": \"DVNB\",\n",
    "    \"ndim\": embedding_train.shape[1],\n",
    "    \"mean norm\": np.linalg.norm(embedding_train, axis=-1).mean(),\n",
    "    \"mean norm avg\": np.linalg.norm(embedding_train, axis=-1).mean()/embedding_train.shape[1],\n",
    "})\n",
    "mag.append({\n",
    "    \"name\": \"RoBERTa\",\n",
    "    \"ndim\": rembs_train.shape[1],\n",
    "    \"mean norm\": np.linalg.norm(rembs_train, axis=-1).mean(),\n",
    "    \"mean norm avg\":  np.linalg.norm(rembs_train, axis=-1).mean()/rembs_train.shape[1]\n",
    "})\n",
    "pd.DataFrame.from_records(mag, index=\"name\")"
   ]
  },
  {
   "cell_type": "code",
   "execution_count": null,
   "metadata": {},
   "outputs": [],
   "source": []
  },
  {
   "cell_type": "code",
   "execution_count": null,
   "metadata": {},
   "outputs": [],
   "source": []
  }
 ],
 "metadata": {
  "interpreter": {
   "hash": "7a9eb5798f2b99c9a982efa35840f22e1983a291b07060f8bd00c483e2e22f4b"
  },
  "kernelspec": {
   "display_name": "Python 3.8.10 64-bit ('base': conda)",
   "language": "python",
   "name": "python3"
  },
  "language_info": {
   "codemirror_mode": {
    "name": "ipython",
    "version": 3
   },
   "file_extension": ".py",
   "mimetype": "text/x-python",
   "name": "python",
   "nbconvert_exporter": "python",
   "pygments_lexer": "ipython3",
   "version": "3.8.10"
  },
  "orig_nbformat": 4
 },
 "nbformat": 4,
 "nbformat_minor": 2
}
