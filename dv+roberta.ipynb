{
 "cells": [
  {
   "cell_type": "markdown",
   "metadata": {},
   "source": [
    "# Grid-Search on: <br> &emsp;Document Vectors using Cosine Similarity + RoBERTa"
   ]
  },
  {
   "cell_type": "code",
   "execution_count": 1,
   "metadata": {},
   "outputs": [],
   "source": [
    "import os\n",
    "from test_with_origin import restore_order\n",
    "from ensemble_gs import ImdbSentimentClf, TrivialScaler, read_embeddings, read_logs\n",
    "\n",
    "import numpy as np\n",
    "from sklearn.metrics import accuracy_score\n",
    "from sklearn.preprocessing import StandardScaler\n",
    "from sklearn.linear_model import LogisticRegression, LogisticRegressionCV\n",
    "import pickle\n",
    "import json\n",
    "import re\n",
    "from typing import List\n",
    "from original_to_1gram import normalize_text\n",
    "\n",
    "import pandas as pd\n",
    "import matplotlib.pyplot as plt\n",
    "import seaborn as sns\n",
    "from matplotlib.colors import LogNorm\n",
    "\n",
    "sns.set(font_scale=1, style=\"whitegrid\")"
   ]
  },
  {
   "cell_type": "markdown",
   "metadata": {},
   "source": [
    "Finetune RoBERTa and extract RoBERTa embeddings with roberta/roberta.py before running this notebook!!!"
   ]
  },
  {
   "cell_type": "markdown",
   "metadata": {},
   "source": [
    "!python roberta/roberta.py"
   ]
  },
  {
   "cell_type": "markdown",
   "metadata": {},
   "source": [
    "## The Grid-Search Experiment\n",
    "### Preparations"
   ]
  },
  {
   "cell_type": "markdown",
   "metadata": {},
   "source": [
    "Because the 2 parts of docuemtn vectors were trained on different versions of the IMDB dataset (all from the original dataset but with different preprocessing and in different document orders), some auxilliary functions are needed to make sure that then are concatenated correctly."
   ]
  },
  {
   "cell_type": "code",
   "execution_count": 2,
   "metadata": {},
   "outputs": [],
   "source": [
    "def read_jsonl(path):\n",
    "    ids = []\n",
    "    texts = []\n",
    "    labels = []\n",
    "    with open(path, encoding='utf8') as f:\n",
    "        for line in f:\n",
    "            d = json.loads(line)\n",
    "            ids.append(d['id'])\n",
    "            texts.append(d['text'])\n",
    "            labels.append(d['label'])\n",
    "    return ids, texts, labels\n",
    "\n",
    "def read_file(file_name:str, start_at:int, stop_before:int)->List[str]:\n",
    "    '''\n",
    "    read a part of the file: lines[start_at: stop_before]\n",
    "    return the cleaned documents, for the purpose of restoring the order\n",
    "    '''\n",
    "    docs = []\n",
    "    with open(file_name, encoding='utf8') as f:\n",
    "        for i, line in enumerate(f):\n",
    "            if i < start_at:\n",
    "                continue\n",
    "            if i == stop_before:\n",
    "                break\n",
    "            line = line[line.find(' ') + 1:]  # remove the index\n",
    "            # in the 3gram file, \"@$\" is used as a word-separator inside tokens, \n",
    "            # so here remove every token with this separator (along with very few \n",
    "            # 1grams with \"@$\" to avoid interference)\n",
    "            line = ''.join([t for t in line.lower().split(' ') if \"@$\" not in t])\n",
    "            line = re.sub(r\"<.{0,30}>\", '', line)\n",
    "            # due to different preprocessing for the 2 files, here only retain \n",
    "            # the alphabetics/'common symbols' in order to ignore noises and \n",
    "            # achieve exact matching (they are enough to retrieve the order). \n",
    "            line = re.sub(r\"[^a-z,\\.\\?\\!]\", '', line)\n",
    "            docs.append(line)     \n",
    "    return docs\n",
    "\n",
    "def restore_order(docs_1gram:List[str], docs_3gram:List[str], check=True)->np.ndarray:\n",
    "    '''\n",
    "    docs_1gram: docs returned by \"read_file\", read from the 1gram file\n",
    "    docs_3gram: docs returned by \"read_file\", read from the 3gram file\n",
    "    returns the matched order, with counting sort:\n",
    "            argsort(docs_3gram, order=docs_1gram)\n",
    "    '''\n",
    "    n = len(docs_1gram)\n",
    "    tri_dict = {}\n",
    "    for i, doc in enumerate(docs_3gram):\n",
    "        # repetitions exist in the dataset, so here use lists to deal with them\n",
    "        tri_dict.setdefault(doc[:85], []).append(i)\n",
    "\n",
    "    uni2tri = []\n",
    "    for i, doc in enumerate(docs_1gram):\n",
    "        uni2tri.append(tri_dict[doc[:85]].pop())\n",
    "\n",
    "    uni2tri = np.array(uni2tri)\n",
    "    if check:\n",
    "        assert len(np.unique(uni2tri)) == len(uni2tri)  # no repetitions (valid permutation)\n",
    "        #assert sum(uni2tri[:n//2] >= n//2) == 0  # positive remain positive\n",
    "        #assert sum(uni2tri[n//2: n] < n//2) == 0  # negative remain negative\n",
    "    return uni2tri\n"
   ]
  },
  {
   "cell_type": "code",
   "execution_count": 3,
   "metadata": {},
   "outputs": [],
   "source": [
    "## read datasets from both sources and get a consistent ducument order\n",
    "os.chdir(\"IMDB_splits\")\n",
    "trainset = read_jsonl(\"train.jsonl\")\n",
    "devset = read_jsonl(\"dev.jsonl\")\n",
    "testset = read_jsonl(\"test.jsonl\")\n",
    "\n",
    "os.chdir(\"../files_root\")\n",
    "docs_3gram = read_file(\"alldata-id_p3gram.txt\", 0, 25000)\n",
    "train_order = restore_order([re.sub(r\"[^a-z,\\.\\?\\!]\", '', normalize_text(doc)) for doc in trainset[1]], docs_3gram)\n",
    "\n",
    "#docs_1gram = read_file(\"alldata-id_p1gram.txt\", 0, 25000)\n",
    "docs_3gram = read_file(\"alldata-id_p3gram.txt\", 0, 25000)\n",
    "dev_order = restore_order([re.sub(r\"[^a-z,\\.\\?\\!]\", '', normalize_text(doc)) for doc in devset[1]], docs_3gram)\n",
    "\n",
    "#docs_1gram = read_file(\"alldata-id_p1gram.txt\", 25000, 50000)\n",
    "docs_3gram = read_file(\"alldata-id_p3gram.txt\", 25000, 50000)\n",
    "test_order = restore_order([re.sub(r\"[^a-z,\\.\\?\\!]\", '', normalize_text(doc)) for doc in testset[1]], docs_3gram)\n",
    "os.chdir(\"..\")"
   ]
  },
  {
   "cell_type": "code",
   "execution_count": 4,
   "metadata": {},
   "outputs": [
    {
     "name": "stdout",
     "output_type": "stream",
     "text": [
      "reading embeddings from files_root/train_vectors.txt\n",
      "reading embeddings from files_root/test_vectors.txt\n"
     ]
    }
   ],
   "source": [
    "## read embeddings from both sources and put them in a consistent docuemtn order\n",
    "# read Document Vectors using Cosine Simialrity\n",
    "embedding_train = read_embeddings('files_root/train_vectors.txt')\n",
    "embedding_test = read_embeddings('files_root/test_vectors.txt')\n",
    "# adjust the document order\n",
    "embedding_dev = embedding_train[dev_order]\n",
    "embedding_train = embedding_train[train_order]\n",
    "embedding_test = embedding_test[test_order]\n",
    "# get labels\n",
    "y_train = np.array(trainset[2])\n",
    "y_dev = np.array(devset[2])\n",
    "y_test = np.array(testset[2])\n",
    "# read RoBERTa embeddings\n",
    "rembs_train = np.load(\"roberta/embs/emb_train.npy\")\n",
    "rembs_dev = np.load(\"roberta/embs/emb_dev.npy\")\n",
    "rembs_test = np.load(\"roberta/embs/emb_test.npy\")"
   ]
  },
  {
   "cell_type": "markdown",
   "metadata": {},
   "source": [
    "### Run the grid-search"
   ]
  },
  {
   "cell_type": "code",
   "execution_count": 5,
   "metadata": {},
   "outputs": [],
   "source": [
    "# The grid of feature-wise scaling\n",
    "dv_scalers = {\n",
    "    'none': TrivialScaler(), \n",
    "    #'standard': StandardScaler(with_mean=False), \n",
    "    'standard_with_mean': StandardScaler(with_mean=True), \n",
    "}\n",
    "re_scalers = {\n",
    "    'none': TrivialScaler(), \n",
    "    'standard': StandardScaler(with_mean=True), \n",
    "    #'minmax': MaxAbsScaler(), \n",
    "}\n"
   ]
  },
  {
   "cell_type": "code",
   "execution_count": 6,
   "metadata": {},
   "outputs": [
    {
     "name": "stdout",
     "output_type": "stream",
     "text": [
      "dv_none+rb_none {'C': 0.0001, 'r': 100.0, 'acc': 0.9576}\n",
      "dv_none+rb_standard {'C': 0.0001, 'r': 100.0, 'acc': 0.9572}\n",
      "dv_standard_with_mean+rb_none {'C': 0.0001, 'r': 100.0, 'acc': 0.9574}\n",
      "dv_standard_with_mean+rb_standard {'C': 1e-05, 'r': 100.0, 'acc': 0.9578}\n"
     ]
    }
   ],
   "source": [
    "# As in some cases the concatenation matrix is very baddly conditioned, the solver may not converge within the niter limit. \n",
    "# Here suppress the corresponding warnings to keep the stdout clean\n",
    "import warnings\n",
    "from sklearn.exceptions import ConvergenceWarning\n",
    "warnings.simplefilter(\"ignore\", category=ConvergenceWarning)\n",
    "np.random.seed(12)\n",
    "# run the experiment\n",
    "his = {}\n",
    "rs = np.logspace(-7, 2, 10)\n",
    "Cs = np.logspace(-7, 2, 10)\n",
    "for dv_scaler_name, dv_scaler in dv_scalers.items():\n",
    "    for bon_scaler_name, bon_scaler in re_scalers.items():\n",
    "        stclf = ImdbSentimentClf(r=rs, C=Cs, dv_scaler=dv_scaler, bon_scaler=bon_scaler, cv=3)\n",
    "        best = stclf.gridsearch(embedding_train, rembs_train, y_train, embedding_dev, rembs_dev, y_dev)\n",
    "        test_name = f'dv_{dv_scaler_name}+rb_{bon_scaler_name}'\n",
    "        his[test_name] = stclf.rec\n",
    "        with open('test_logs/dv+roberta_logs.pkl', 'wb') as f:\n",
    "            pickle.dump(his, f)\n",
    "        print(test_name, best)\n"
   ]
  },
  {
   "cell_type": "markdown",
   "metadata": {},
   "source": [
    "## The results"
   ]
  },
  {
   "cell_type": "code",
   "execution_count": 7,
   "metadata": {},
   "outputs": [],
   "source": [
    "with open('test_logs/dv+roberta_logs.pkl', 'rb') as f:\n",
    "    his = pickle.load(f)\n",
    "df = read_logs(his)"
   ]
  },
  {
   "cell_type": "code",
   "execution_count": 8,
   "metadata": {},
   "outputs": [],
   "source": [
    "df = df.rename(columns={\"BON scaling\": \"RoBERTa scaling\"})"
   ]
  },
  {
   "cell_type": "code",
   "execution_count": 9,
   "metadata": {},
   "outputs": [
    {
     "data": {
      "image/png": "[encoded data removed]",
      "text/plain": [
       "<Figure size 793.35x720 with 4 Axes>"
      ]
     },
     "metadata": {},
     "output_type": "display_data"
    }
   ],
   "source": [
    "g = sns.relplot(x=\"C\", y=\"acc\", hue=\"r\", col=\"DV scaling\", row=\"RoBERTa scaling\", data=df, hue_norm=LogNorm(1e-7, 1e2), legend=\"full\")\n",
    "g.set(xscale=\"log\")\n",
    "g.set(ylim=(0.92, 0.96))\n",
    "g.savefig(\"figures/dv_rb_gs.jpg\")"
   ]
  },
  {
   "cell_type": "code",
   "execution_count": 10,
   "metadata": {},
   "outputs": [
    {
     "data": {
      "text/html": [
       "<div>\n",
       "<style scoped>\n",
       "    .dataframe tbody tr th:only-of-type {\n",
       "        vertical-align: middle;\n",
       "    }\n",
       "\n",
       "    .dataframe tbody tr th {\n",
       "        vertical-align: top;\n",
       "    }\n",
       "\n",
       "    .dataframe thead th {\n",
       "        text-align: right;\n",
       "    }\n",
       "</style>\n",
       "<table border=\"1\" class=\"dataframe\">\n",
       "  <thead>\n",
       "    <tr style=\"text-align: right;\">\n",
       "      <th></th>\n",
       "      <th>C</th>\n",
       "      <th>r</th>\n",
       "      <th>acc</th>\n",
       "      <th>DV scaling</th>\n",
       "      <th>RoBERTa scaling</th>\n",
       "    </tr>\n",
       "  </thead>\n",
       "  <tbody>\n",
       "    <tr>\n",
       "      <th>92</th>\n",
       "      <td>0.00001</td>\n",
       "      <td>100.0</td>\n",
       "      <td>0.9578</td>\n",
       "      <td>standard_with_mean</td>\n",
       "      <td>standard</td>\n",
       "    </tr>\n",
       "    <tr>\n",
       "      <th>93</th>\n",
       "      <td>0.00010</td>\n",
       "      <td>100.0</td>\n",
       "      <td>0.9576</td>\n",
       "      <td>none</td>\n",
       "      <td>none</td>\n",
       "    </tr>\n",
       "    <tr>\n",
       "      <th>93</th>\n",
       "      <td>0.00010</td>\n",
       "      <td>100.0</td>\n",
       "      <td>0.9574</td>\n",
       "      <td>standard_with_mean</td>\n",
       "      <td>none</td>\n",
       "    </tr>\n",
       "    <tr>\n",
       "      <th>93</th>\n",
       "      <td>0.00010</td>\n",
       "      <td>100.0</td>\n",
       "      <td>0.9572</td>\n",
       "      <td>none</td>\n",
       "      <td>standard</td>\n",
       "    </tr>\n",
       "  </tbody>\n",
       "</table>\n",
       "</div>"
      ],
      "text/plain": [
       "          C      r     acc          DV scaling RoBERTa scaling\n",
       "92  0.00001  100.0  0.9578  standard_with_mean        standard\n",
       "93  0.00010  100.0  0.9576                none            none\n",
       "93  0.00010  100.0  0.9574  standard_with_mean            none\n",
       "93  0.00010  100.0  0.9572                none        standard"
      ]
     },
     "execution_count": 10,
     "metadata": {},
     "output_type": "execute_result"
    }
   ],
   "source": [
    "top = df.sort_values(by=\"acc\", ascending=False).head(4).copy()\n",
    "top"
   ]
  },
  {
   "cell_type": "code",
   "execution_count": 11,
   "metadata": {},
   "outputs": [],
   "source": [
    "embedding_train = np.vstack([embedding_train, embedding_dev])\n",
    "rembs_train = np.vstack([rembs_train, rembs_dev])"
   ]
  },
  {
   "cell_type": "code",
   "execution_count": 12,
   "metadata": {},
   "outputs": [],
   "source": [
    "y_train = np.concatenate([y_train, y_dev])"
   ]
  },
  {
   "cell_type": "code",
   "execution_count": 13,
   "metadata": {},
   "outputs": [
    {
     "data": {
      "text/html": [
       "<div>\n",
       "<style scoped>\n",
       "    .dataframe tbody tr th:only-of-type {\n",
       "        vertical-align: middle;\n",
       "    }\n",
       "\n",
       "    .dataframe tbody tr th {\n",
       "        vertical-align: top;\n",
       "    }\n",
       "\n",
       "    .dataframe thead th {\n",
       "        text-align: right;\n",
       "    }\n",
       "</style>\n",
       "<table border=\"1\" class=\"dataframe\">\n",
       "  <thead>\n",
       "    <tr style=\"text-align: right;\">\n",
       "      <th></th>\n",
       "      <th>C</th>\n",
       "      <th>r</th>\n",
       "      <th>acc</th>\n",
       "      <th>DV scaling</th>\n",
       "      <th>RoBERTa scaling</th>\n",
       "      <th>test score</th>\n",
       "    </tr>\n",
       "  </thead>\n",
       "  <tbody>\n",
       "    <tr>\n",
       "      <th>92</th>\n",
       "      <td>0.00001</td>\n",
       "      <td>100.0</td>\n",
       "      <td>0.9578</td>\n",
       "      <td>standard_with_mean</td>\n",
       "      <td>standard</td>\n",
       "      <td>0.96072</td>\n",
       "    </tr>\n",
       "    <tr>\n",
       "      <th>93</th>\n",
       "      <td>0.00010</td>\n",
       "      <td>100.0</td>\n",
       "      <td>0.9576</td>\n",
       "      <td>none</td>\n",
       "      <td>none</td>\n",
       "      <td>0.95964</td>\n",
       "    </tr>\n",
       "    <tr>\n",
       "      <th>93</th>\n",
       "      <td>0.00010</td>\n",
       "      <td>100.0</td>\n",
       "      <td>0.9574</td>\n",
       "      <td>standard_with_mean</td>\n",
       "      <td>none</td>\n",
       "      <td>0.95964</td>\n",
       "    </tr>\n",
       "    <tr>\n",
       "      <th>93</th>\n",
       "      <td>0.00010</td>\n",
       "      <td>100.0</td>\n",
       "      <td>0.9572</td>\n",
       "      <td>none</td>\n",
       "      <td>standard</td>\n",
       "      <td>0.95964</td>\n",
       "    </tr>\n",
       "  </tbody>\n",
       "</table>\n",
       "</div>"
      ],
      "text/plain": [
       "          C      r     acc          DV scaling RoBERTa scaling  test score\n",
       "92  0.00001  100.0  0.9578  standard_with_mean        standard     0.96072\n",
       "93  0.00010  100.0  0.9576                none            none     0.95964\n",
       "93  0.00010  100.0  0.9574  standard_with_mean            none     0.95964\n",
       "93  0.00010  100.0  0.9572                none        standard     0.95964"
      ]
     },
     "execution_count": 13,
     "metadata": {},
     "output_type": "execute_result"
    }
   ],
   "source": [
    "lr = LogisticRegression()\n",
    "\n",
    "sd = StandardScaler(with_mean=True)\n",
    "embedding_train_sd = sd.fit_transform(embedding_train)\n",
    "embedding_test_sd = sd.transform(embedding_test)\n",
    "\n",
    "rembs_train_sd = sd.fit_transform(rembs_train)\n",
    "rembs_test_sd = sd.transform(rembs_test)\n",
    "\n",
    "for i, a in top.iterrows():\n",
    "    dv_train = embedding_train_sd if a[\"DV scaling\"] == \"standard_with_mean\" else embedding_train\n",
    "    dv_test = embedding_test_sd if a[\"DV scaling\"] == \"standard_with_mean\" else embedding_test\n",
    "\n",
    "    rb_train = rembs_train_sd if a[\"RoBERTa scaling\"] == \"standard\" else rembs_train\n",
    "    rb_test = rembs_test_sd if a[\"RoBERTa scaling\"] == \"standard\" else rembs_test\n",
    "\n",
    "    lr.set_params(C=a[\"C\"])\n",
    "    lr.fit(np.hstack([dv_train * a[\"r\"],rb_train]), y_train)\n",
    "    test_score = lr.score(np.hstack([dv_test * a[\"r\"], rb_test]), y_test)\n",
    "    top.loc[i, \"test score\"] = test_score\n",
    "\n",
    "top   "
   ]
  },
  {
   "cell_type": "code",
   "execution_count": 14,
   "metadata": {},
   "outputs": [
    {
     "name": "stdout",
     "output_type": "stream",
     "text": [
      "RoBERTa score: 0.95792\n",
      "dv score: 0.9314\n"
     ]
    }
   ],
   "source": [
    "\n",
    "lgcv = LogisticRegressionCV(Cs=np.logspace(-7, 4, 9), tol=0.001)\n",
    "lgcv.fit(rembs_train, y_train)\n",
    "rb_test_score = lgcv.score(rembs_test, y_test)\n",
    "\n",
    "lgcv.fit(embedding_train, y_train)\n",
    "dv_test_score = lgcv.score(embedding_test, y_test)\n",
    "print(\"RoBERTa score:\", rb_test_score)\n",
    "print(\"dv score:\", dv_test_score)"
   ]
  },
  {
   "cell_type": "code",
   "execution_count": 15,
   "metadata": {},
   "outputs": [
    {
     "data": {
      "text/html": [
       "<div>\n",
       "<style scoped>\n",
       "    .dataframe tbody tr th:only-of-type {\n",
       "        vertical-align: middle;\n",
       "    }\n",
       "\n",
       "    .dataframe tbody tr th {\n",
       "        vertical-align: top;\n",
       "    }\n",
       "\n",
       "    .dataframe thead th {\n",
       "        text-align: right;\n",
       "    }\n",
       "</style>\n",
       "<table border=\"1\" class=\"dataframe\">\n",
       "  <thead>\n",
       "    <tr style=\"text-align: right;\">\n",
       "      <th></th>\n",
       "      <th>ndim</th>\n",
       "      <th>mean norm</th>\n",
       "      <th>mean norm avg</th>\n",
       "    </tr>\n",
       "    <tr>\n",
       "      <th>name</th>\n",
       "      <th></th>\n",
       "      <th></th>\n",
       "      <th></th>\n",
       "    </tr>\n",
       "  </thead>\n",
       "  <tbody>\n",
       "    <tr>\n",
       "      <th>DV</th>\n",
       "      <td>500</td>\n",
       "      <td>5.367574</td>\n",
       "      <td>0.010735</td>\n",
       "    </tr>\n",
       "    <tr>\n",
       "      <th>RoBERTa</th>\n",
       "      <td>768</td>\n",
       "      <td>14.571285</td>\n",
       "      <td>0.018973</td>\n",
       "    </tr>\n",
       "  </tbody>\n",
       "</table>\n",
       "</div>"
      ],
      "text/plain": [
       "         ndim  mean norm  mean norm avg\n",
       "name                                   \n",
       "DV        500   5.367574       0.010735\n",
       "RoBERTa   768  14.571285       0.018973"
      ]
     },
     "execution_count": 15,
     "metadata": {},
     "output_type": "execute_result"
    }
   ],
   "source": [
    "mag = []\n",
    "mag.append({\n",
    "    \"name\": \"DV\",\n",
    "    \"ndim\": embedding_train.shape[1],\n",
    "    \"mean norm\": np.linalg.norm(embedding_train, axis=-1).mean(),\n",
    "    \"mean norm avg\": np.linalg.norm(embedding_train, axis=-1).mean()/embedding_train.shape[1],\n",
    "})\n",
    "mag.append({\n",
    "    \"name\": \"RoBERTa\",\n",
    "    \"ndim\": rembs_train.shape[1],\n",
    "    \"mean norm\": np.linalg.norm(rembs_train, axis=-1).mean(),\n",
    "    \"mean norm avg\":  np.linalg.norm(rembs_train, axis=-1).mean()/rembs_train.shape[1]\n",
    "})\n",
    "pd.DataFrame.from_records(mag, index=\"name\")"
   ]
  },
  {
   "cell_type": "code",
   "execution_count": null,
   "metadata": {},
   "outputs": [],
   "source": []
  },
  {
   "cell_type": "code",
   "execution_count": null,
   "metadata": {},
   "outputs": [],
   "source": []
  }
 ],
 "metadata": {
  "interpreter": {
   "hash": "7a9eb5798f2b99c9a982efa35840f22e1983a291b07060f8bd00c483e2e22f4b"
  },
  "kernelspec": {
   "display_name": "Python 3.8.10 64-bit ('base': conda)",
   "language": "python",
   "name": "python3"
  },
  "language_info": {
   "codemirror_mode": {
    "name": "ipython",
    "version": 3
   },
   "file_extension": ".py",
   "mimetype": "text/x-python",
   "name": "python",
   "nbconvert_exporter": "python",
   "pygments_lexer": "ipython3",
   "version": "3.8.10"
  },
  "orig_nbformat": 4
 },
 "nbformat": 4,
 "nbformat_minor": 2
}
